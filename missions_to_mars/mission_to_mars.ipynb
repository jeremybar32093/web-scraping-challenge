{
 "cells": [
  {
   "cell_type": "markdown",
   "id": "secret-liabilities",
   "metadata": {},
   "source": [
    "# Mission to Mars"
   ]
  },
  {
   "cell_type": "markdown",
   "id": "silent-glossary",
   "metadata": {},
   "source": [
    "## 1.) Dependencies and Setup"
   ]
  },
  {
   "cell_type": "code",
   "execution_count": 8,
   "id": "three-produce",
   "metadata": {},
   "outputs": [],
   "source": [
    "# Import dependencies\n",
    "from splinter import Browser\n",
    "from bs4 import BeautifulSoup\n",
    "from webdriver_manager.chrome import ChromeDriverManager"
   ]
  },
  {
   "cell_type": "code",
   "execution_count": 9,
   "id": "designed-disclaimer",
   "metadata": {},
   "outputs": [
    {
     "name": "stderr",
     "output_type": "stream",
     "text": [
      "\n",
      "\n",
      "====== WebDriver manager ======\n",
      "Current google-chrome version is 91.0.4472\n",
      "Get LATEST driver version for 91.0.4472\n",
      "Driver [C:\\Users\\12015\\.wdm\\drivers\\chromedriver\\win32\\91.0.4472.19\\chromedriver.exe] found in cache\n"
     ]
    }
   ],
   "source": [
    "# Setup splinter\n",
    "executable_path = {'executable_path': ChromeDriverManager().install()}\n",
    "browser = Browser('chrome', **executable_path, headless=False)"
   ]
  },
  {
   "cell_type": "markdown",
   "id": "fundamental-brake",
   "metadata": {},
   "source": [
    "## 2.) Scrape [mars news site](https://redplanetscience.com/) - collect latest news title and paragraph text"
   ]
  },
  {
   "cell_type": "code",
   "execution_count": 4,
   "id": "optional-lease",
   "metadata": {},
   "outputs": [],
   "source": [
    "# Use splinter browser variable to navigate to the mars news site\n",
    "url = 'https://redplanetscience.com/'\n",
    "browser.visit(url)"
   ]
  },
  {
   "cell_type": "code",
   "execution_count": 5,
   "id": "flying-seeking",
   "metadata": {},
   "outputs": [
    {
     "name": "stdout",
     "output_type": "stream",
     "text": [
      "Mars InSight Lander to Push on Top of the 'Mole'\n",
      "Engineers have a plan for pushing down on the heat probe, which has been stuck at the Martian surface for a year.\n"
     ]
    }
   ],
   "source": [
    "# Scrape using BeautifulSoup\n",
    "html = browser.html\n",
    "soup = BeautifulSoup(html, 'html.parser')\n",
    "\n",
    "# Use div with class 'content_title' to find list of all news titles\n",
    "article_titles = soup.find_all('div', class_='content_title')\n",
    "\n",
    "# Pull first one to get latest title\n",
    "latest_article_title = article_titles[0].text\n",
    "\n",
    "print(latest_article_title)\n",
    "\n",
    "# Use div with class 'article_teaser_body' to find list of news paragraph text\n",
    "article_paragraphs = soup.find_all('div', class_='article_teaser_body')\n",
    "\n",
    "# Pull first one to get latest article paragraph\n",
    "latest_article_paragraph = article_paragraphs[0].text\n",
    "\n",
    "print(latest_article_paragraph)\n"
   ]
  },
  {
   "cell_type": "markdown",
   "id": "communist-professional",
   "metadata": {},
   "source": [
    "## 3.) Scrape [JPL mars space images site](https://spaceimages-mars.com/) - collect featured image path"
   ]
  },
  {
   "cell_type": "code",
   "execution_count": 10,
   "id": "logical-integration",
   "metadata": {},
   "outputs": [],
   "source": [
    "# Use splinter browser variable to navigate to the mars news site\n",
    "url = 'https://spaceimages-mars.com/'\n",
    "browser.visit(url)"
   ]
  },
  {
   "cell_type": "code",
   "execution_count": 15,
   "id": "greatest-penny",
   "metadata": {},
   "outputs": [
    {
     "name": "stdout",
     "output_type": "stream",
     "text": [
      "<img class=\"headerimage fade-in\" src=\"image/featured/mars1.jpg\"/>\n",
      "https://spaceimages-mars.com/image/featured/mars1.jpg\n"
     ]
    }
   ],
   "source": [
    "# Scrape using BeautifulSoup\n",
    "html = browser.html\n",
    "soup = BeautifulSoup(html, 'html.parser')\n",
    "\n",
    "# Use div with class 'content_title' to find list of all news titles\n",
    "featured_image = soup.find('img', class_='headerimage')\n",
    "\n",
    "# Pull first one to get latest title\n",
    "featured_image_path =  url + featured_image['src']\n",
    "\n",
    "print(featured_image_path)"
   ]
  },
  {
   "cell_type": "code",
   "execution_count": 16,
   "id": "conditional-hollywood",
   "metadata": {},
   "outputs": [],
   "source": [
    "# Quit browser\n",
    "browser.quit()"
   ]
  },
  {
   "cell_type": "code",
   "execution_count": null,
   "id": "junior-papua",
   "metadata": {},
   "outputs": [],
   "source": []
  }
 ],
 "metadata": {
  "kernelspec": {
   "display_name": "Python 3",
   "language": "python",
   "name": "python3"
  },
  "language_info": {
   "codemirror_mode": {
    "name": "ipython",
    "version": 3
   },
   "file_extension": ".py",
   "mimetype": "text/x-python",
   "name": "python",
   "nbconvert_exporter": "python",
   "pygments_lexer": "ipython3",
   "version": "3.8.8"
  }
 },
 "nbformat": 4,
 "nbformat_minor": 5
}
